{
 "cells": [
  {
   "cell_type": "markdown",
   "metadata": {
    "colab_type": "text",
    "id": "view-in-github"
   },
   "source": [
    "<a href=\"https://colab.research.google.com/github/https-deeplearning-ai/tensorflow-3-public/blob/main/Course%201%20-%20Custom%20Models%2C%20Layers%20and%20Loss%20Functions/Week%205%20-%20Callbacks/C1_W5_Lab_1_exploring-callbacks.ipynb\" target=\"_parent\"><img src=\"https://colab.research.google.com/assets/colab-badge.svg\" alt=\"Open In Colab\"/></a>"
   ]
  },
  {
   "cell_type": "markdown",
   "metadata": {
    "colab_type": "text",
    "id": "0c_TYhQOUe1j"
   },
   "source": [
    "# Ungraded Lab: Introduction to Keras callbacks\n",
    "\n",
    "In Keras, `Callback` is a Python class meant to be subclassed to provide specific functionality, with a set of methods called at various stages of training (including batch/epoch start and ends), testing, and predicting. Callbacks are useful to get a view on internal states and statistics of the model during training. The methods of the callbacks can  be called at different stages of training/evaluating/inference. Keras has available [callbacks](https://keras.io/api/callbacks/) and we'll show how you can use it in the following sections. Please click the **Open in Colab** badge above to complete this exercise in Colab. This will allow you to take advantage of the free GPU runtime (for faster training) and compatibility with all the packages needed in this notebook."
   ]
  },
  {
   "cell_type": "markdown",
   "metadata": {
    "colab_type": "text",
    "id": "Uyl69EyRQx-f"
   },
   "source": [
    "## Model methods that take callbacks\n",
    "Users can supply a list of callbacks to the following `tf.keras.Model` methods:\n",
    "* [`fit()`](https://www.tensorflow.org/versions/r2.0/api_docs/python/tf/keras/Model#fit), [`fit_generator()`](https://www.tensorflow.org/versions/r2.0/api_docs/python/tf/keras/Model#fit_generator)\n",
    "Trains the model for a fixed number of epochs (iterations over a dataset, or data yielded batch-by-batch by a Python generator).\n",
    "* [`evaluate()`](https://www.tensorflow.org/versions/r2.0/api_docs/python/tf/keras/Model#evaluate), [`evaluate_generator()`](https://www.tensorflow.org/versions/r2.0/api_docs/python/tf/keras/Model#evaluate_generator)\n",
    "Evaluates the model for given data or data generator. Outputs the loss and metric values from the evaluation.\n",
    "* [`predict()`](https://www.tensorflow.org/versions/r2.0/api_docs/python/tf/keras/Model#predict), [`predict_generator()`](https://www.tensorflow.org/versions/r2.0/api_docs/python/tf/keras/Model#predict_generator)\n",
    "Generates output predictions for the input data or data generator."
   ]
  },
  {
   "cell_type": "markdown",
   "metadata": {},
   "source": [
    "## Imports"
   ]
  },
  {
   "cell_type": "code",
   "execution_count": 1,
   "metadata": {
    "colab": {},
    "colab_type": "code",
    "id": "AlT1Kh3uA9lZ"
   },
   "outputs": [
    {
     "name": "stdout",
     "output_type": "stream",
     "text": [
      "Version:  2.1.0\n"
     ]
    }
   ],
   "source": [
    "from __future__ import absolute_import, division, print_function, unicode_literals\n",
    "\n",
    "try:\n",
    "    # %tensorflow_version only exists in Colab.\n",
    "    %tensorflow_version 2.x\n",
    "except Exception:\n",
    "    pass\n",
    "\n",
    "import tensorflow as tf\n",
    "import tensorflow_datasets as tfds\n",
    "import matplotlib.pyplot as plt\n",
    "import io\n",
    "from PIL import Image\n",
    "\n",
    "from tensorflow.keras.callbacks import TensorBoard, EarlyStopping, LearningRateScheduler, ModelCheckpoint, CSVLogger, ReduceLROnPlateau\n",
    "%load_ext tensorboard\n",
    "\n",
    "import os\n",
    "import matplotlib.pylab as plt\n",
    "import numpy as np\n",
    "import math\n",
    "import datetime\n",
    "import pandas as pd\n",
    "\n",
    "print(\"Version: \", tf.__version__)\n",
    "tf.get_logger().setLevel('INFO')"
   ]
  },
  {
   "cell_type": "markdown",
   "metadata": {
    "colab_type": "text",
    "id": "HnSljqtsXKfb"
   },
   "source": [
    "# Examples of Keras callback applications\n",
    "The following section will guide you through creating simple [Callback](https://keras.io/api/callbacks/) applications."
   ]
  },
  {
   "cell_type": "code",
   "execution_count": 2,
   "metadata": {
    "colab": {},
    "colab_type": "code",
    "id": "spskRuxvCYQE"
   },
   "outputs": [],
   "source": [
    "# Download and prepare the horses or humans dataset\n",
    "\n",
    "# horses_or_humans 3.0.0 has already been downloaded for you\n",
    "path = \"./tensorflow_datasets\"\n",
    "splits, info = tfds.load('horses_or_humans', data_dir=path, as_supervised=True, with_info=True, split=['train[:80%]', 'train[80%:]', 'test'])\n",
    "\n",
    "(train_examples, validation_examples, test_examples) = splits\n",
    "\n",
    "num_examples = info.splits['train'].num_examples\n",
    "num_classes = info.features['label'].num_classes"
   ]
  },
  {
   "cell_type": "code",
   "execution_count": 3,
   "metadata": {
    "colab": {},
    "colab_type": "code",
    "id": "veIsubKTCZsN"
   },
   "outputs": [],
   "source": [
    "SIZE = 150 #@param {type:\"slider\", min:64, max:300, step:1}\n",
    "IMAGE_SIZE = (SIZE, SIZE)"
   ]
  },
  {
   "cell_type": "code",
   "execution_count": 4,
   "metadata": {
    "colab": {},
    "colab_type": "code",
    "id": "faajLlErCb1S"
   },
   "outputs": [],
   "source": [
    "def format_image(image, label):\n",
    "  image = tf.image.resize(image, IMAGE_SIZE) / 255.0\n",
    "  return  image, label"
   ]
  },
  {
   "cell_type": "code",
   "execution_count": 5,
   "metadata": {
    "colab": {},
    "colab_type": "code",
    "id": "AVXPuU12Cdka"
   },
   "outputs": [],
   "source": [
    "BATCH_SIZE = 32 #@param {type:\"integer\"}"
   ]
  },
  {
   "cell_type": "code",
   "execution_count": 6,
   "metadata": {
    "colab": {},
    "colab_type": "code",
    "id": "0lHDkFVaCe48"
   },
   "outputs": [],
   "source": [
    "train_batches = train_examples.shuffle(num_examples // 4).map(format_image).batch(BATCH_SIZE).prefetch(1)\n",
    "validation_batches = validation_examples.map(format_image).batch(BATCH_SIZE).prefetch(1)\n",
    "test_batches = test_examples.map(format_image).batch(1)"
   ]
  },
  {
   "cell_type": "code",
   "execution_count": 7,
   "metadata": {
    "colab": {},
    "colab_type": "code",
    "id": "DxsCqEIkCgUt"
   },
   "outputs": [
    {
     "data": {
      "text/plain": [
       "TensorShape([32, 150, 150, 3])"
      ]
     },
     "execution_count": 7,
     "metadata": {},
     "output_type": "execute_result"
    }
   ],
   "source": [
    "for image_batch, label_batch in train_batches.take(1):\n",
    "  pass\n",
    "\n",
    "image_batch.shape"
   ]
  },
  {
   "cell_type": "code",
   "execution_count": 8,
   "metadata": {
    "colab": {},
    "colab_type": "code",
    "id": "iDBpWvHXCh2A"
   },
   "outputs": [],
   "source": [
    "def build_model(dense_units, input_shape=IMAGE_SIZE + (3,)):\n",
    "  model = tf.keras.models.Sequential([\n",
    "      tf.keras.layers.Conv2D(16, (3, 3), activation='relu', input_shape=input_shape),\n",
    "      tf.keras.layers.MaxPooling2D(2, 2),\n",
    "      tf.keras.layers.Conv2D(32, (3, 3), activation='relu'),\n",
    "      tf.keras.layers.MaxPooling2D(2, 2),\n",
    "      tf.keras.layers.Conv2D(64, (3, 3), activation='relu'),\n",
    "      tf.keras.layers.MaxPooling2D(2, 2),\n",
    "      tf.keras.layers.Flatten(),\n",
    "      tf.keras.layers.Dense(dense_units, activation='relu'),\n",
    "      tf.keras.layers.Dense(2, activation='softmax')\n",
    "  ])\n",
    "  return model"
   ]
  },
  {
   "cell_type": "markdown",
   "metadata": {
    "colab_type": "text",
    "id": "0ZKGkjagENSw"
   },
   "source": [
    "## [TensorBoard](https://keras.io/api/callbacks/tensorboard/)\n",
    "\n",
    "Enable visualizations for TensorBoard."
   ]
  },
  {
   "cell_type": "code",
   "execution_count": 9,
   "metadata": {
    "colab": {},
    "colab_type": "code",
    "id": "CeiD2WVEHbex"
   },
   "outputs": [],
   "source": [
    "!rm -rf logs"
   ]
  },
  {
   "cell_type": "code",
   "execution_count": 10,
   "metadata": {
    "colab": {},
    "colab_type": "code",
    "id": "PpLwPLnAEOzv"
   },
   "outputs": [
    {
     "name": "stdout",
     "output_type": "stream",
     "text": [
      "Epoch 1/10\n",
      "26/26 [==============================] - 21s 803ms/step - loss: 0.6547 - accuracy: 0.6071 - val_loss: 0.6825 - val_accuracy: 0.5220\n",
      "Epoch 2/10\n",
      "26/26 [==============================] - 20s 769ms/step - loss: 0.5998 - accuracy: 0.6898 - val_loss: 0.5909 - val_accuracy: 0.6683\n",
      "Epoch 3/10\n",
      "26/26 [==============================] - 20s 765ms/step - loss: 0.5469 - accuracy: 0.7397 - val_loss: 0.5465 - val_accuracy: 0.6878\n",
      "Epoch 4/10\n",
      "26/26 [==============================] - 20s 762ms/step - loss: 0.5106 - accuracy: 0.7470 - val_loss: 0.5340 - val_accuracy: 0.7366\n",
      "Epoch 5/10\n",
      "26/26 [==============================] - 20s 761ms/step - loss: 0.4550 - accuracy: 0.8017 - val_loss: 0.4388 - val_accuracy: 0.8146\n",
      "Epoch 6/10\n",
      "26/26 [==============================] - 20s 762ms/step - loss: 0.4330 - accuracy: 0.7981 - val_loss: 0.4317 - val_accuracy: 0.8488\n",
      "Epoch 7/10\n",
      "26/26 [==============================] - 21s 815ms/step - loss: 0.4145 - accuracy: 0.8163 - val_loss: 0.3567 - val_accuracy: 0.8537\n",
      "Epoch 8/10\n",
      "26/26 [==============================] - 20s 773ms/step - loss: 0.3599 - accuracy: 0.8540 - val_loss: 0.4606 - val_accuracy: 0.7756\n",
      "Epoch 9/10\n",
      "26/26 [==============================] - 21s 796ms/step - loss: 0.3126 - accuracy: 0.8917 - val_loss: 0.2962 - val_accuracy: 0.8976\n",
      "Epoch 10/10\n",
      "26/26 [==============================] - 21s 815ms/step - loss: 0.2870 - accuracy: 0.8942 - val_loss: 0.2398 - val_accuracy: 0.9317\n"
     ]
    },
    {
     "data": {
      "text/plain": [
       "<tensorflow.python.keras.callbacks.History at 0x7f8468e0fe10>"
      ]
     },
     "execution_count": 10,
     "metadata": {},
     "output_type": "execute_result"
    }
   ],
   "source": [
    "model = build_model(dense_units=256)\n",
    "model.compile(\n",
    "    optimizer='sgd',\n",
    "    loss='sparse_categorical_crossentropy', \n",
    "    metrics=['accuracy'])\n",
    "  \n",
    "logdir = os.path.join(\"logs\", datetime.datetime.now().strftime(\"%Y%m%d-%H%M%S\"))\n",
    "tensorboard_callback = tf.keras.callbacks.TensorBoard(logdir)\n",
    "\n",
    "model.fit(train_batches, \n",
    "          epochs=10, \n",
    "          validation_data=validation_batches, \n",
    "          callbacks=[tensorboard_callback])"
   ]
  },
  {
   "cell_type": "code",
   "execution_count": 11,
   "metadata": {
    "colab": {},
    "colab_type": "code",
    "id": "iJunWOjZE0ir"
   },
   "outputs": [
    {
     "data": {
      "text/html": [
       "\n",
       "      <iframe id=\"tensorboard-frame-53bbf3807c74f4be\" width=\"100%\" height=\"800\" frameborder=\"0\">\n",
       "      </iframe>\n",
       "      <script>\n",
       "        (function() {\n",
       "          const frame = document.getElementById(\"tensorboard-frame-53bbf3807c74f4be\");\n",
       "          const url = new URL(\"/\", window.location);\n",
       "          url.port = 6006;\n",
       "          frame.src = url;\n",
       "        })();\n",
       "      </script>\n",
       "  "
      ],
      "text/plain": [
       "<IPython.core.display.HTML object>"
      ]
     },
     "metadata": {},
     "output_type": "display_data"
    }
   ],
   "source": [
    "%tensorboard --logdir logs"
   ]
  },
  {
   "cell_type": "markdown",
   "metadata": {
    "colab_type": "text",
    "id": "wv9H4Pc2Mfl7"
   },
   "source": [
    "## [Model Checkpoint](https://keras.io/api/callbacks/model_checkpoint/)\n",
    "\n",
    "Callback to save the Keras model or model weights at some frequency."
   ]
  },
  {
   "cell_type": "code",
   "execution_count": 12,
   "metadata": {
    "colab": {},
    "colab_type": "code",
    "id": "PYV4FJ8iMmDq"
   },
   "outputs": [
    {
     "name": "stdout",
     "output_type": "stream",
     "text": [
      "Epoch 1/5\n",
      "\n",
      "Epoch 00001: saving model to weights.01-0.68.h5\n",
      "26/26 - 22s - loss: 0.6657 - accuracy: 0.5620 - val_loss: 0.6824 - val_accuracy: 0.4780\n",
      "Epoch 2/5\n",
      "\n",
      "Epoch 00002: saving model to weights.02-0.81.h5\n",
      "26/26 - 22s - loss: 0.5943 - accuracy: 0.7409 - val_loss: 0.8117 - val_accuracy: 0.4488\n",
      "Epoch 3/5\n",
      "\n",
      "Epoch 00003: saving model to weights.03-0.49.h5\n",
      "26/26 - 23s - loss: 0.5445 - accuracy: 0.7543 - val_loss: 0.4872 - val_accuracy: 0.8488\n",
      "Epoch 4/5\n",
      "\n",
      "Epoch 00004: saving model to weights.04-0.58.h5\n",
      "26/26 - 20s - loss: 0.5005 - accuracy: 0.7835 - val_loss: 0.5753 - val_accuracy: 0.6585\n",
      "Epoch 5/5\n",
      "\n",
      "Epoch 00005: saving model to weights.05-0.36.h5\n",
      "26/26 - 20s - loss: 0.4315 - accuracy: 0.8163 - val_loss: 0.3591 - val_accuracy: 0.8829\n"
     ]
    },
    {
     "data": {
      "text/plain": [
       "<tensorflow.python.keras.callbacks.History at 0x7f84523cce90>"
      ]
     },
     "execution_count": 12,
     "metadata": {},
     "output_type": "execute_result"
    }
   ],
   "source": [
    "model = build_model(dense_units=256)\n",
    "model.compile(\n",
    "    optimizer='sgd',\n",
    "    loss='sparse_categorical_crossentropy', \n",
    "    metrics=['accuracy'])\n",
    "  \n",
    "model.fit(train_batches, \n",
    "          epochs=5, \n",
    "          validation_data=validation_batches, \n",
    "          verbose=2,\n",
    "          callbacks=[ModelCheckpoint('weights.{epoch:02d}-{val_loss:.2f}.h5', verbose=1),\n",
    "          ])"
   ]
  },
  {
   "cell_type": "code",
   "execution_count": 13,
   "metadata": {
    "colab": {},
    "colab_type": "code",
    "id": "oGvjQ8IlMmK6"
   },
   "outputs": [
    {
     "name": "stdout",
     "output_type": "stream",
     "text": [
      "\n",
      "Epoch 00001: saving model to saved_model\n",
      "WARNING:tensorflow:From /opt/conda/lib/python3.7/site-packages/tensorflow_core/python/ops/resource_variable_ops.py:1786: calling BaseResourceVariable.__init__ (from tensorflow.python.ops.resource_variable_ops) with constraint is deprecated and will be removed in a future version.\n",
      "Instructions for updating:\n",
      "If using Keras pass *_constraint arguments to layers.\n"
     ]
    },
    {
     "name": "stderr",
     "output_type": "stream",
     "text": [
      "WARNING:tensorflow:From /opt/conda/lib/python3.7/site-packages/tensorflow_core/python/ops/resource_variable_ops.py:1786: calling BaseResourceVariable.__init__ (from tensorflow.python.ops.resource_variable_ops) with constraint is deprecated and will be removed in a future version.\n",
      "Instructions for updating:\n",
      "If using Keras pass *_constraint arguments to layers.\n"
     ]
    },
    {
     "name": "stdout",
     "output_type": "stream",
     "text": [
      "INFO:tensorflow:Assets written to: saved_model/assets\n"
     ]
    },
    {
     "name": "stderr",
     "output_type": "stream",
     "text": [
      "INFO:tensorflow:Assets written to: saved_model/assets\n"
     ]
    },
    {
     "name": "stdout",
     "output_type": "stream",
     "text": [
      "26/26 - 24s - loss: 0.6800 - accuracy: 0.5693 - val_loss: 0.6690 - val_accuracy: 0.7756\n"
     ]
    },
    {
     "data": {
      "text/plain": [
       "<tensorflow.python.keras.callbacks.History at 0x7f84522c10d0>"
      ]
     },
     "execution_count": 13,
     "metadata": {},
     "output_type": "execute_result"
    }
   ],
   "source": [
    "model = build_model(dense_units=256)\n",
    "model.compile(\n",
    "    optimizer='sgd',\n",
    "    loss='sparse_categorical_crossentropy', \n",
    "    metrics=['accuracy'])\n",
    "  \n",
    "model.fit(train_batches, \n",
    "          epochs=1, \n",
    "          validation_data=validation_batches, \n",
    "          verbose=2,\n",
    "          callbacks=[ModelCheckpoint('saved_model', verbose=1)\n",
    "          ])"
   ]
  },
  {
   "cell_type": "code",
   "execution_count": 14,
   "metadata": {
    "colab": {},
    "colab_type": "code",
    "id": "Y1ConwoB0EjD"
   },
   "outputs": [
    {
     "name": "stdout",
     "output_type": "stream",
     "text": [
      "Epoch 1/2\n",
      "\n",
      "Epoch 00001: saving model to model.h5\n",
      "26/26 - 20s - loss: 0.6793 - accuracy: 0.5645 - val_loss: 0.7194 - val_accuracy: 0.4341\n",
      "Epoch 2/2\n",
      "\n",
      "Epoch 00002: saving model to model.h5\n",
      "26/26 - 20s - loss: 0.6563 - accuracy: 0.6119 - val_loss: 0.6453 - val_accuracy: 0.6439\n"
     ]
    },
    {
     "data": {
      "text/plain": [
       "<tensorflow.python.keras.callbacks.History at 0x7f845208da50>"
      ]
     },
     "execution_count": 14,
     "metadata": {},
     "output_type": "execute_result"
    }
   ],
   "source": [
    "model = build_model(dense_units=256)\n",
    "model.compile(\n",
    "    optimizer='sgd',\n",
    "    loss='sparse_categorical_crossentropy', \n",
    "    metrics=['accuracy'])\n",
    "  \n",
    "model.fit(train_batches, \n",
    "          epochs=2, \n",
    "          validation_data=validation_batches, \n",
    "          verbose=2,\n",
    "          callbacks=[ModelCheckpoint('model.h5', verbose=1)\n",
    "          ])"
   ]
  },
  {
   "cell_type": "markdown",
   "metadata": {
    "colab_type": "text",
    "id": "kptNF0--Lznv"
   },
   "source": [
    "## [Early stopping](https://keras.io/api/callbacks/early_stopping/)\n",
    "\n",
    "Stop training when a monitored metric has stopped improving."
   ]
  },
  {
   "cell_type": "code",
   "execution_count": 15,
   "metadata": {
    "colab": {},
    "colab_type": "code",
    "id": "KJOJTJYdCkdY"
   },
   "outputs": [
    {
     "name": "stdout",
     "output_type": "stream",
     "text": [
      "Epoch 1/50\n",
      "26/26 - 21s - loss: 0.6567 - accuracy: 0.6314 - val_loss: 0.6087 - val_accuracy: 0.7268\n",
      "Epoch 2/50\n",
      "26/26 - 20s - loss: 0.5832 - accuracy: 0.7068 - val_loss: 0.5383 - val_accuracy: 0.8195\n",
      "Epoch 3/50\n",
      "26/26 - 21s - loss: 0.5119 - accuracy: 0.7701 - val_loss: 0.5072 - val_accuracy: 0.7610\n",
      "Epoch 4/50\n",
      "26/26 - 20s - loss: 0.4522 - accuracy: 0.8017 - val_loss: 0.5158 - val_accuracy: 0.7024\n",
      "Epoch 5/50\n",
      "26/26 - 20s - loss: 0.3790 - accuracy: 0.8613 - val_loss: 0.3189 - val_accuracy: 0.9122\n",
      "Epoch 6/50\n",
      "26/26 - 20s - loss: 0.2993 - accuracy: 0.9002 - val_loss: 0.3136 - val_accuracy: 0.8878\n",
      "Epoch 7/50\n",
      "26/26 - 20s - loss: 0.2873 - accuracy: 0.8893 - val_loss: 0.2666 - val_accuracy: 0.8976\n",
      "Epoch 8/50\n",
      "26/26 - 20s - loss: 0.2087 - accuracy: 0.9270 - val_loss: 0.1564 - val_accuracy: 0.9659\n",
      "Epoch 9/50\n",
      "26/26 - 19s - loss: 0.1895 - accuracy: 0.9404 - val_loss: 0.1701 - val_accuracy: 0.9512\n",
      "Epoch 10/50\n",
      "26/26 - 20s - loss: 0.1587 - accuracy: 0.9550 - val_loss: 0.1389 - val_accuracy: 0.9561\n",
      "Epoch 11/50\n",
      "26/26 - 20s - loss: 0.1260 - accuracy: 0.9684 - val_loss: 0.0923 - val_accuracy: 0.9902\n",
      "Epoch 12/50\n",
      "26/26 - 20s - loss: 0.1038 - accuracy: 0.9732 - val_loss: 0.0949 - val_accuracy: 0.9659\n",
      "Epoch 13/50\n",
      "26/26 - 20s - loss: 0.1098 - accuracy: 0.9745 - val_loss: 0.1088 - val_accuracy: 0.9561\n",
      "Epoch 14/50\n",
      "Restoring model weights from the end of the best epoch.\n",
      "26/26 - 20s - loss: 0.1027 - accuracy: 0.9708 - val_loss: 0.0773 - val_accuracy: 0.9854\n",
      "Epoch 00014: early stopping\n"
     ]
    },
    {
     "data": {
      "text/plain": [
       "<tensorflow.python.keras.callbacks.History at 0x7f8451e90a10>"
      ]
     },
     "execution_count": 15,
     "metadata": {},
     "output_type": "execute_result"
    }
   ],
   "source": [
    "model = build_model(dense_units=256)\n",
    "model.compile(\n",
    "    optimizer='sgd',\n",
    "    loss='sparse_categorical_crossentropy', \n",
    "    metrics=['accuracy'])\n",
    "  \n",
    "model.fit(train_batches, \n",
    "          epochs=50, \n",
    "          validation_data=validation_batches, \n",
    "          verbose=2,\n",
    "          callbacks=[EarlyStopping(\n",
    "              patience=3,\n",
    "              min_delta=0.05,\n",
    "              baseline=0.8,\n",
    "              mode='min',\n",
    "              monitor='val_loss',\n",
    "              restore_best_weights=True,\n",
    "              verbose=1)\n",
    "          ])"
   ]
  },
  {
   "cell_type": "markdown",
   "metadata": {
    "colab_type": "text",
    "id": "8mDzWUD4Pqq5"
   },
   "source": [
    "## [CSV Logger](https://keras.io/api/callbacks/csv_logger/)\n",
    "\n",
    "Callback that streams epoch results to a CSV file."
   ]
  },
  {
   "cell_type": "code",
   "execution_count": 16,
   "metadata": {
    "colab": {},
    "colab_type": "code",
    "id": "cffnMpmGPtMh"
   },
   "outputs": [
    {
     "name": "stdout",
     "output_type": "stream",
     "text": [
      "Epoch 1/5\n",
      "26/26 [==============================] - 20s 783ms/step - loss: 0.6594 - accuracy: 0.6204 - val_loss: 0.6427 - val_accuracy: 0.7610\n",
      "Epoch 2/5\n",
      "26/26 [==============================] - 20s 764ms/step - loss: 0.6254 - accuracy: 0.6582 - val_loss: 0.6029 - val_accuracy: 0.7659\n",
      "Epoch 3/5\n",
      "26/26 [==============================] - 20s 777ms/step - loss: 0.5922 - accuracy: 0.6776 - val_loss: 0.6821 - val_accuracy: 0.5268\n",
      "Epoch 4/5\n",
      "26/26 [==============================] - 20s 755ms/step - loss: 0.5371 - accuracy: 0.7530 - val_loss: 0.7156 - val_accuracy: 0.5463\n",
      "Epoch 5/5\n",
      "26/26 [==============================] - 20s 757ms/step - loss: 0.4934 - accuracy: 0.7859 - val_loss: 0.4523 - val_accuracy: 0.8049\n"
     ]
    },
    {
     "data": {
      "text/plain": [
       "<tensorflow.python.keras.callbacks.History at 0x7f8451df5d10>"
      ]
     },
     "execution_count": 16,
     "metadata": {},
     "output_type": "execute_result"
    }
   ],
   "source": [
    "model = build_model(dense_units=256)\n",
    "model.compile(\n",
    "    optimizer='sgd',\n",
    "    loss='sparse_categorical_crossentropy', \n",
    "    metrics=['accuracy'])\n",
    "  \n",
    "csv_file = 'training.csv'\n",
    "\n",
    "model.fit(train_batches, \n",
    "          epochs=5, \n",
    "          validation_data=validation_batches, \n",
    "          callbacks=[CSVLogger(csv_file)\n",
    "          ])"
   ]
  },
  {
   "cell_type": "code",
   "execution_count": 17,
   "metadata": {
    "colab": {},
    "colab_type": "code",
    "id": "B9tkYi03QV7R"
   },
   "outputs": [
    {
     "data": {
      "text/html": [
       "<div>\n",
       "<style scoped>\n",
       "    .dataframe tbody tr th:only-of-type {\n",
       "        vertical-align: middle;\n",
       "    }\n",
       "\n",
       "    .dataframe tbody tr th {\n",
       "        vertical-align: top;\n",
       "    }\n",
       "\n",
       "    .dataframe thead th {\n",
       "        text-align: right;\n",
       "    }\n",
       "</style>\n",
       "<table border=\"1\" class=\"dataframe\">\n",
       "  <thead>\n",
       "    <tr style=\"text-align: right;\">\n",
       "      <th></th>\n",
       "      <th>epoch</th>\n",
       "      <th>accuracy</th>\n",
       "      <th>loss</th>\n",
       "      <th>val_accuracy</th>\n",
       "      <th>val_loss</th>\n",
       "    </tr>\n",
       "  </thead>\n",
       "  <tbody>\n",
       "    <tr>\n",
       "      <th>0</th>\n",
       "      <td>0</td>\n",
       "      <td>0.620438</td>\n",
       "      <td>0.659855</td>\n",
       "      <td>0.760976</td>\n",
       "      <td>0.642707</td>\n",
       "    </tr>\n",
       "    <tr>\n",
       "      <th>1</th>\n",
       "      <td>1</td>\n",
       "      <td>0.658151</td>\n",
       "      <td>0.625670</td>\n",
       "      <td>0.765854</td>\n",
       "      <td>0.602883</td>\n",
       "    </tr>\n",
       "    <tr>\n",
       "      <th>2</th>\n",
       "      <td>2</td>\n",
       "      <td>0.677616</td>\n",
       "      <td>0.592487</td>\n",
       "      <td>0.526829</td>\n",
       "      <td>0.682136</td>\n",
       "    </tr>\n",
       "    <tr>\n",
       "      <th>3</th>\n",
       "      <td>3</td>\n",
       "      <td>0.753041</td>\n",
       "      <td>0.536713</td>\n",
       "      <td>0.546342</td>\n",
       "      <td>0.715567</td>\n",
       "    </tr>\n",
       "    <tr>\n",
       "      <th>4</th>\n",
       "      <td>4</td>\n",
       "      <td>0.785888</td>\n",
       "      <td>0.493015</td>\n",
       "      <td>0.804878</td>\n",
       "      <td>0.452328</td>\n",
       "    </tr>\n",
       "  </tbody>\n",
       "</table>\n",
       "</div>"
      ],
      "text/plain": [
       "   epoch  accuracy      loss  val_accuracy  val_loss\n",
       "0      0  0.620438  0.659855      0.760976  0.642707\n",
       "1      1  0.658151  0.625670      0.765854  0.602883\n",
       "2      2  0.677616  0.592487      0.526829  0.682136\n",
       "3      3  0.753041  0.536713      0.546342  0.715567\n",
       "4      4  0.785888  0.493015      0.804878  0.452328"
      ]
     },
     "execution_count": 17,
     "metadata": {},
     "output_type": "execute_result"
    }
   ],
   "source": [
    "pd.read_csv(csv_file).head()"
   ]
  },
  {
   "cell_type": "markdown",
   "metadata": {
    "colab_type": "text",
    "id": "Dt9C2Y9fRBKN"
   },
   "source": [
    "## [Learning Rate Scheduler](https://keras.io/api/callbacks/learning_rate_scheduler/)\n",
    "\n",
    "Updates the learning rate during training."
   ]
  },
  {
   "cell_type": "code",
   "execution_count": 18,
   "metadata": {
    "colab": {},
    "colab_type": "code",
    "id": "aJi-xY2VRC03"
   },
   "outputs": [
    {
     "name": "stdout",
     "output_type": "stream",
     "text": [
      "\n",
      "Epoch 00001: LearningRateScheduler reducing learning rate to 0.005.\n",
      "Epoch 1/5\n",
      "26/26 [==============================] - 20s 786ms/step - loss: 0.6765 - accuracy: 0.5718 - val_loss: 0.6738 - val_accuracy: 0.5366\n",
      "\n",
      "Epoch 00002: LearningRateScheduler reducing learning rate to 0.0025.\n",
      "Epoch 2/5\n",
      "26/26 [==============================] - 31s 1s/step - loss: 0.6580 - accuracy: 0.6192 - val_loss: 0.6658 - val_accuracy: 0.5659\n",
      "\n",
      "Epoch 00003: LearningRateScheduler reducing learning rate to 0.00125.\n",
      "Epoch 3/5\n",
      "26/26 [==============================] - 20s 785ms/step - loss: 0.6501 - accuracy: 0.6545 - val_loss: 0.6627 - val_accuracy: 0.5610\n",
      "\n",
      "Epoch 00004: LearningRateScheduler reducing learning rate to 0.000625.\n",
      "Epoch 4/5\n",
      "26/26 [==============================] - 20s 758ms/step - loss: 0.6453 - accuracy: 0.6436 - val_loss: 0.6595 - val_accuracy: 0.5951\n",
      "\n",
      "Epoch 00005: LearningRateScheduler reducing learning rate to 0.0003125.\n",
      "Epoch 5/5\n",
      "26/26 [==============================] - 20s 755ms/step - loss: 0.6431 - accuracy: 0.6667 - val_loss: 0.6586 - val_accuracy: 0.5951\n"
     ]
    },
    {
     "data": {
      "text/plain": [
       "<tensorflow.python.keras.callbacks.History at 0x7f844fc20d90>"
      ]
     },
     "execution_count": 18,
     "metadata": {},
     "output_type": "execute_result"
    }
   ],
   "source": [
    "model = build_model(dense_units=256)\n",
    "model.compile(\n",
    "    optimizer='sgd',\n",
    "    loss='sparse_categorical_crossentropy', \n",
    "    metrics=['accuracy'])\n",
    "  \n",
    "def step_decay(epoch):\n",
    "\tinitial_lr = 0.01\n",
    "\tdrop = 0.5\n",
    "\tepochs_drop = 1\n",
    "\tlr = initial_lr * math.pow(drop, math.floor((1+epoch)/epochs_drop))\n",
    "\treturn lr\n",
    "\n",
    "model.fit(train_batches, \n",
    "          epochs=5, \n",
    "          validation_data=validation_batches, \n",
    "          callbacks=[LearningRateScheduler(step_decay, verbose=1),\n",
    "                    TensorBoard(log_dir='./log_dir')])"
   ]
  },
  {
   "cell_type": "code",
   "execution_count": 19,
   "metadata": {
    "colab": {},
    "colab_type": "code",
    "id": "M2S4n8nrbV91"
   },
   "outputs": [
    {
     "data": {
      "text/html": [
       "\n",
       "      <iframe id=\"tensorboard-frame-530723de4bd5b661\" width=\"100%\" height=\"800\" frameborder=\"0\">\n",
       "      </iframe>\n",
       "      <script>\n",
       "        (function() {\n",
       "          const frame = document.getElementById(\"tensorboard-frame-530723de4bd5b661\");\n",
       "          const url = new URL(\"/\", window.location);\n",
       "          url.port = 6007;\n",
       "          frame.src = url;\n",
       "        })();\n",
       "      </script>\n",
       "  "
      ],
      "text/plain": [
       "<IPython.core.display.HTML object>"
      ]
     },
     "metadata": {},
     "output_type": "display_data"
    }
   ],
   "source": [
    "%tensorboard --logdir log_dir"
   ]
  },
  {
   "cell_type": "markdown",
   "metadata": {
    "colab_type": "text",
    "id": "y0wcuQyJE_UK"
   },
   "source": [
    "## [ReduceLROnPlateau](https://keras.io/api/callbacks/reduce_lr_on_plateau/)\n",
    "\n",
    "Reduce learning rate when a metric has stopped improving."
   ]
  },
  {
   "cell_type": "code",
   "execution_count": 20,
   "metadata": {
    "colab": {},
    "colab_type": "code",
    "id": "4naxZ-eCFB27"
   },
   "outputs": [
    {
     "name": "stdout",
     "output_type": "stream",
     "text": [
      "Epoch 1/50\n",
      "26/26 [==============================] - 21s 822ms/step - loss: 0.6742 - accuracy: 0.5596 - val_loss: 0.6576 - val_accuracy: 0.8049\n",
      "Epoch 2/50\n",
      "26/26 [==============================] - 21s 796ms/step - loss: 0.6362 - accuracy: 0.6800 - val_loss: 0.6093 - val_accuracy: 0.8780\n",
      "Epoch 3/50\n",
      "26/26 [==============================] - 20s 758ms/step - loss: 0.5809 - accuracy: 0.7579 - val_loss: 0.5704 - val_accuracy: 0.7317\n",
      "Epoch 4/50\n",
      "26/26 [==============================] - 21s 800ms/step - loss: 0.5264 - accuracy: 0.7908 - val_loss: 0.5130 - val_accuracy: 0.7171\n",
      "Epoch 5/50\n",
      "25/26 [===========================>..] - ETA: 0s - loss: 0.4470 - accuracy: 0.8225\n",
      "Epoch 00005: ReduceLROnPlateau reducing learning rate to 0.0019999999552965165.\n",
      "26/26 [==============================] - 20s 758ms/step - loss: 0.4468 - accuracy: 0.8224 - val_loss: 0.5513 - val_accuracy: 0.7317\n",
      "Epoch 6/50\n",
      "26/26 [==============================] - 20s 765ms/step - loss: 0.3956 - accuracy: 0.8564 - val_loss: 0.3892 - val_accuracy: 0.9024\n",
      "Epoch 7/50\n",
      "26/26 [==============================] - 20s 769ms/step - loss: 0.3737 - accuracy: 0.8662 - val_loss: 0.3597 - val_accuracy: 0.8683\n",
      "Epoch 8/50\n",
      "26/26 [==============================] - 20s 777ms/step - loss: 0.3639 - accuracy: 0.8698 - val_loss: 0.3459 - val_accuracy: 0.8683\n",
      "Epoch 9/50\n",
      "26/26 [==============================] - 20s 779ms/step - loss: 0.3476 - accuracy: 0.8747 - val_loss: 0.3428 - val_accuracy: 0.9073\n",
      "Epoch 10/50\n",
      "26/26 [==============================] - 20s 771ms/step - loss: 0.3373 - accuracy: 0.8929 - val_loss: 0.3320 - val_accuracy: 0.9122\n",
      "Epoch 11/50\n",
      "26/26 [==============================] - 20s 777ms/step - loss: 0.3240 - accuracy: 0.8832 - val_loss: 0.3162 - val_accuracy: 0.9171\n",
      "Epoch 12/50\n",
      "26/26 [==============================] - 20s 766ms/step - loss: 0.3102 - accuracy: 0.8966 - val_loss: 0.3043 - val_accuracy: 0.9171\n",
      "Epoch 13/50\n",
      "26/26 [==============================] - 20s 777ms/step - loss: 0.2985 - accuracy: 0.9015 - val_loss: 0.2831 - val_accuracy: 0.9171\n",
      "Epoch 14/50\n",
      "26/26 [==============================] - 20s 764ms/step - loss: 0.2873 - accuracy: 0.9088 - val_loss: 0.2804 - val_accuracy: 0.9220\n",
      "Epoch 15/50\n",
      "26/26 [==============================] - 20s 774ms/step - loss: 0.2722 - accuracy: 0.9185 - val_loss: 0.2642 - val_accuracy: 0.9220\n",
      "Epoch 16/50\n",
      "26/26 [==============================] - 20s 762ms/step - loss: 0.2631 - accuracy: 0.9209 - val_loss: 0.2426 - val_accuracy: 0.9122\n",
      "Epoch 17/50\n",
      "25/26 [===========================>..] - ETA: 0s - loss: 0.2541 - accuracy: 0.9275\n",
      "Epoch 00017: ReduceLROnPlateau reducing learning rate to 0.001.\n",
      "26/26 [==============================] - 20s 781ms/step - loss: 0.2543 - accuracy: 0.9282 - val_loss: 0.2514 - val_accuracy: 0.9220\n",
      "Epoch 18/50\n",
      "26/26 [==============================] - 20s 765ms/step - loss: 0.2400 - accuracy: 0.9331 - val_loss: 0.2297 - val_accuracy: 0.9317\n",
      "Epoch 19/50\n",
      "25/26 [===========================>..] - ETA: 0s - loss: 0.2338 - accuracy: 0.9375\n",
      "Epoch 00019: ReduceLROnPlateau reducing learning rate to 0.001.\n",
      "26/26 [==============================] - 20s 766ms/step - loss: 0.2324 - accuracy: 0.9367 - val_loss: 0.2298 - val_accuracy: 0.9317\n",
      "Epoch 20/50\n",
      "26/26 [==============================] - 20s 785ms/step - loss: 0.2284 - accuracy: 0.9367 - val_loss: 0.2224 - val_accuracy: 0.9317\n",
      "Epoch 21/50\n",
      "26/26 [==============================] - 20s 757ms/step - loss: 0.2220 - accuracy: 0.9453 - val_loss: 0.2074 - val_accuracy: 0.9366\n",
      "Epoch 22/50\n",
      "25/26 [===========================>..] - ETA: 0s - loss: 0.2156 - accuracy: 0.9425\n",
      "Epoch 00022: ReduceLROnPlateau reducing learning rate to 0.001.\n",
      "26/26 [==============================] - 20s 762ms/step - loss: 0.2185 - accuracy: 0.9428 - val_loss: 0.2108 - val_accuracy: 0.9366\n",
      "Epoch 23/50\n",
      "26/26 [==============================] - 20s 777ms/step - loss: 0.2096 - accuracy: 0.9453 - val_loss: 0.2026 - val_accuracy: 0.9366\n",
      "Epoch 24/50\n",
      "26/26 [==============================] - 20s 773ms/step - loss: 0.2039 - accuracy: 0.9513 - val_loss: 0.1938 - val_accuracy: 0.9561\n",
      "Epoch 25/50\n",
      "25/26 [===========================>..] - ETA: 0s - loss: 0.1978 - accuracy: 0.9550\n",
      "Epoch 00025: ReduceLROnPlateau reducing learning rate to 0.001.\n",
      "26/26 [==============================] - 20s 765ms/step - loss: 0.1983 - accuracy: 0.9562 - val_loss: 0.1982 - val_accuracy: 0.9366\n",
      "Epoch 26/50\n",
      "26/26 [==============================] - 20s 765ms/step - loss: 0.1931 - accuracy: 0.9574 - val_loss: 0.1861 - val_accuracy: 0.9366\n",
      "Epoch 27/50\n",
      "26/26 [==============================] - 20s 773ms/step - loss: 0.1905 - accuracy: 0.9574 - val_loss: 0.1766 - val_accuracy: 0.9610\n",
      "Epoch 28/50\n",
      "25/26 [===========================>..] - ETA: 0s - loss: 0.1824 - accuracy: 0.9600\n",
      "Epoch 00028: ReduceLROnPlateau reducing learning rate to 0.001.\n",
      "26/26 [==============================] - 20s 762ms/step - loss: 0.1845 - accuracy: 0.9586 - val_loss: 0.1890 - val_accuracy: 0.9366\n",
      "Epoch 29/50\n",
      "26/26 [==============================] - 20s 763ms/step - loss: 0.1796 - accuracy: 0.9599 - val_loss: 0.1690 - val_accuracy: 0.9610\n",
      "Epoch 30/50\n",
      "25/26 [===========================>..] - ETA: 0s - loss: 0.1743 - accuracy: 0.9688\n",
      "Epoch 00030: ReduceLROnPlateau reducing learning rate to 0.001.\n",
      "26/26 [==============================] - 20s 771ms/step - loss: 0.1747 - accuracy: 0.9672 - val_loss: 0.1723 - val_accuracy: 0.9415\n",
      "Epoch 31/50\n",
      "25/26 [===========================>..] - ETA: 0s - loss: 0.1699 - accuracy: 0.9663\n",
      "Epoch 00031: ReduceLROnPlateau reducing learning rate to 0.001.\n",
      "26/26 [==============================] - 20s 766ms/step - loss: 0.1684 - accuracy: 0.9672 - val_loss: 0.1690 - val_accuracy: 0.9415\n",
      "Epoch 32/50\n",
      "26/26 [==============================] - 20s 765ms/step - loss: 0.1642 - accuracy: 0.9647 - val_loss: 0.1658 - val_accuracy: 0.9463\n",
      "Epoch 33/50\n",
      "25/26 [===========================>..] - ETA: 0s - loss: 0.1605 - accuracy: 0.9663\n",
      "Epoch 00033: ReduceLROnPlateau reducing learning rate to 0.001.\n",
      "26/26 [==============================] - 20s 765ms/step - loss: 0.1601 - accuracy: 0.9672 - val_loss: 0.1670 - val_accuracy: 0.9366\n",
      "Epoch 34/50\n",
      "26/26 [==============================] - 20s 777ms/step - loss: 0.1554 - accuracy: 0.9708 - val_loss: 0.1583 - val_accuracy: 0.9512\n",
      "Epoch 35/50\n",
      "26/26 [==============================] - 20s 758ms/step - loss: 0.1516 - accuracy: 0.9708 - val_loss: 0.1474 - val_accuracy: 0.9659\n",
      "Epoch 36/50\n",
      "26/26 [==============================] - 21s 797ms/step - loss: 0.1469 - accuracy: 0.9696 - val_loss: 0.1402 - val_accuracy: 0.9707\n",
      "Epoch 37/50\n",
      "25/26 [===========================>..] - ETA: 0s - loss: 0.1431 - accuracy: 0.9725\n",
      "Epoch 00037: ReduceLROnPlateau reducing learning rate to 0.001.\n",
      "26/26 [==============================] - 21s 789ms/step - loss: 0.1453 - accuracy: 0.9720 - val_loss: 0.1451 - val_accuracy: 0.9610\n",
      "Epoch 38/50\n",
      "26/26 [==============================] - 20s 779ms/step - loss: 0.1401 - accuracy: 0.9696 - val_loss: 0.1400 - val_accuracy: 0.9659\n",
      "Epoch 39/50\n",
      "25/26 [===========================>..] - ETA: 0s - loss: 0.1358 - accuracy: 0.9725\n",
      "Epoch 00039: ReduceLROnPlateau reducing learning rate to 0.001.\n",
      "26/26 [==============================] - 20s 765ms/step - loss: 0.1351 - accuracy: 0.9732 - val_loss: 0.1501 - val_accuracy: 0.9512\n",
      "Epoch 40/50\n",
      "26/26 [==============================] - 20s 773ms/step - loss: 0.1334 - accuracy: 0.9708 - val_loss: 0.1323 - val_accuracy: 0.9756\n",
      "Epoch 41/50\n",
      "26/26 [==============================] - 20s 784ms/step - loss: 0.1328 - accuracy: 0.9757 - val_loss: 0.1273 - val_accuracy: 0.9707\n",
      "Epoch 42/50\n",
      "26/26 [==============================] - 20s 773ms/step - loss: 0.1243 - accuracy: 0.9805 - val_loss: 0.1227 - val_accuracy: 0.9707\n",
      "Epoch 43/50\n",
      "26/26 [==============================] - 20s 769ms/step - loss: 0.1238 - accuracy: 0.9769 - val_loss: 0.1200 - val_accuracy: 0.9707\n",
      "Epoch 44/50\n",
      "25/26 [===========================>..] - ETA: 0s - loss: 0.1207 - accuracy: 0.9775\n",
      "Epoch 00044: ReduceLROnPlateau reducing learning rate to 0.001.\n",
      "26/26 [==============================] - 20s 773ms/step - loss: 0.1190 - accuracy: 0.9781 - val_loss: 0.1435 - val_accuracy: 0.9463\n",
      "Epoch 45/50\n",
      "26/26 [==============================] - 20s 773ms/step - loss: 0.1196 - accuracy: 0.9781 - val_loss: 0.1168 - val_accuracy: 0.9707\n",
      "Epoch 46/50\n",
      "26/26 [==============================] - 21s 796ms/step - loss: 0.1154 - accuracy: 0.9793 - val_loss: 0.1154 - val_accuracy: 0.9707\n",
      "Epoch 47/50\n",
      "25/26 [===========================>..] - ETA: 0s - loss: 0.1129 - accuracy: 0.9787\n",
      "Epoch 00047: ReduceLROnPlateau reducing learning rate to 0.001.\n",
      "26/26 [==============================] - 20s 769ms/step - loss: 0.1143 - accuracy: 0.9781 - val_loss: 0.1156 - val_accuracy: 0.9707\n",
      "Epoch 48/50\n",
      "26/26 [==============================] - 20s 769ms/step - loss: 0.1100 - accuracy: 0.9818 - val_loss: 0.1134 - val_accuracy: 0.9707\n",
      "Epoch 49/50\n",
      "26/26 [==============================] - 20s 762ms/step - loss: 0.1083 - accuracy: 0.9781 - val_loss: 0.1083 - val_accuracy: 0.9707\n",
      "Epoch 50/50\n",
      "26/26 [==============================] - 20s 769ms/step - loss: 0.1031 - accuracy: 0.9818 - val_loss: 0.1056 - val_accuracy: 0.9707\n"
     ]
    },
    {
     "data": {
      "text/plain": [
       "<tensorflow.python.keras.callbacks.History at 0x7f8451e0fa90>"
      ]
     },
     "execution_count": 20,
     "metadata": {},
     "output_type": "execute_result"
    }
   ],
   "source": [
    "model = build_model(dense_units=256)\n",
    "model.compile(\n",
    "    optimizer='sgd',\n",
    "    loss='sparse_categorical_crossentropy', \n",
    "    metrics=['accuracy'])\n",
    "  \n",
    "model.fit(train_batches, \n",
    "          epochs=50, \n",
    "          validation_data=validation_batches, \n",
    "          callbacks=[ReduceLROnPlateau(monitor='val_loss', \n",
    "                                       factor=0.2, verbose=1,\n",
    "                                       patience=1, min_lr=0.001),\n",
    "                     TensorBoard(log_dir='./log_dir')])"
   ]
  },
  {
   "cell_type": "code",
   "execution_count": 21,
   "metadata": {
    "colab": {},
    "colab_type": "code",
    "id": "isfTWP4NYudk"
   },
   "outputs": [
    {
     "data": {
      "text/plain": [
       "Reusing TensorBoard on port 6007 (pid 4734), started 0:25:54 ago. (Use '!kill 4734' to kill it.)"
      ]
     },
     "metadata": {},
     "output_type": "display_data"
    },
    {
     "data": {
      "text/html": [
       "\n",
       "      <iframe id=\"tensorboard-frame-6466d9e51b3a17a3\" width=\"100%\" height=\"800\" frameborder=\"0\">\n",
       "      </iframe>\n",
       "      <script>\n",
       "        (function() {\n",
       "          const frame = document.getElementById(\"tensorboard-frame-6466d9e51b3a17a3\");\n",
       "          const url = new URL(\"/\", window.location);\n",
       "          url.port = 6007;\n",
       "          frame.src = url;\n",
       "        })();\n",
       "      </script>\n",
       "  "
      ],
      "text/plain": [
       "<IPython.core.display.HTML object>"
      ]
     },
     "metadata": {},
     "output_type": "display_data"
    }
   ],
   "source": [
    "%tensorboard --logdir log_dir"
   ]
  }
 ],
 "metadata": {
  "colab": {
   "collapsed_sections": [],
   "include_colab_link": true,
   "name": "ExploringCallbacks.ipynb",
   "provenance": []
  },
  "kernelspec": {
   "display_name": "Python 3",
   "language": "python",
   "name": "python3"
  },
  "language_info": {
   "codemirror_mode": {
    "name": "ipython",
    "version": 3
   },
   "file_extension": ".py",
   "mimetype": "text/x-python",
   "name": "python",
   "nbconvert_exporter": "python",
   "pygments_lexer": "ipython3",
   "version": "3.7.6"
  }
 },
 "nbformat": 4,
 "nbformat_minor": 4
}
